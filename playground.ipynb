{
 "cells": [
  {
   "cell_type": "code",
   "execution_count": 51,
   "metadata": {},
   "outputs": [],
   "source": [
    "matchups = [\n",
    "    # Home, Away\n",
    "    (\"HOU\", \"CLE\"),\n",
    "    (\"NYJ\", \"NE\"),\n",
    "    (\"DET\", \"ATL\"),\n",
    "    (\"WAS\", \"BUF\"),\n",
    "    (\"GB\", \"NO\"),\n",
    "    (\"MIA\", \"DEN\"),\n",
    "    (\"CLE\", \"TEN\"),\n",
    "    (\"MIN\", \"LAC\"),\n",
    "    (\"NYJ\", \"NE\"),\n",
    "    (\"JAX\", \"HOU\"),\n",
    "    (\"BAL\", \"IND\"),\n",
    "    (\"SEA\", \"CAR\"),\n",
    "    (\"KC\", \"CHI\"),\n",
    "    (\"ARI\", \"DAL\"),\n",
    "    (\"LV\", \"PIT\"),\n",
    "    (\"TB\", \"PHI\"),\n",
    "]"
   ]
  },
  {
   "cell_type": "code",
   "execution_count": 52,
   "metadata": {},
   "outputs": [
    {
     "name": "stderr",
     "output_type": "stream",
     "text": [
      "/var/folders/z0/jl3_m1r94gb2ypr7xq23dhkh0000gn/T/ipykernel_555/853071885.py:9: DtypeWarning: Columns (45,182,183,222,224,226,283,284,332) have mixed types. Specify dtype option on import or set low_memory=False.\n",
      "  data = pd.read_csv(\"./data/play_by_play_2024.csv\")\n"
     ]
    }
   ],
   "source": [
    "import joblib\n",
    "import pandas as pd\n",
    "import numpy as np\n",
    "\n",
    "# Load the saved model\n",
    "model = joblib.load(\"./models/clf.pkl\")\n",
    "\n",
    "# Load season data so far\n",
    "data = pd.read_csv(\"./data/play_by_play_2024.csv\")"
   ]
  },
  {
   "cell_type": "code",
   "execution_count": 53,
   "metadata": {},
   "outputs": [
    {
     "name": "stdout",
     "output_type": "stream",
     "text": [
      "['BUF' 'KC' 'NO' 'CLE' 'SEA' 'PHI' 'IND' 'MIA' 'DET' 'LAC' 'NYG' 'CIN'\n",
      " 'SF' 'ATL' 'CHI' 'TB' 'JAX' 'GB' 'CAR' 'BAL' 'DAL' 'WAS' 'TEN' 'NE' 'MIN']\n"
     ]
    }
   ],
   "source": [
    "# print all unique home_team and away_team in data\n",
    "print(data.home_team.unique())"
   ]
  },
  {
   "cell_type": "code",
   "execution_count": 54,
   "metadata": {},
   "outputs": [],
   "source": [
    "import itertools\n",
    "\n",
    "\n",
    "def get_prediction(matchup):\n",
    "\n",
    "    HOME_TEAM = matchup[0]\n",
    "    AWAY_TEAM = matchup[1]\n",
    "\n",
    "    def ewma(data, window):\n",
    "        \"\"\"\n",
    "        Calculate the most recent value for EWMA given an array of data and a window size\n",
    "        \"\"\"\n",
    "        alpha = 2 / (window + 1.0)\n",
    "        alpha_rev = 1 - alpha\n",
    "        scale = 1 / alpha_rev\n",
    "        n = data.shape[0]\n",
    "        r = np.arange(n)\n",
    "        scale_arr = scale**r\n",
    "        offset = data[0] * alpha_rev ** (r + 1)\n",
    "        pw0 = alpha * alpha_rev ** (n - 1)\n",
    "        mult = data * pw0 * scale_arr\n",
    "        cumsums = mult.cumsum()\n",
    "        out = offset + cumsums * scale_arr[::-1]\n",
    "        return out[-1]\n",
    "\n",
    "    offense = data.loc[(data[\"posteam\"] == HOME_TEAM) | (data[\"posteam\"] == AWAY_TEAM)]\n",
    "    defense = data.loc[(data[\"defteam\"] == HOME_TEAM) | (data[\"defteam\"] == AWAY_TEAM)]\n",
    "\n",
    "    rushing_offense = (\n",
    "        offense.loc[offense[\"rush_attempt\"] == 1]\n",
    "        .groupby([\"posteam\", \"week\"], as_index=False)[\"epa\"]\n",
    "        .mean()\n",
    "        .rename(columns={\"posteam\": \"team\"})\n",
    "    )\n",
    "    passing_offense = (\n",
    "        offense.loc[offense[\"pass_attempt\"] == 1]\n",
    "        .groupby([\"posteam\", \"week\"], as_index=False)[\"epa\"]\n",
    "        .mean()\n",
    "        .rename(columns={\"posteam\": \"team\"})\n",
    "    )\n",
    "    rushing_defense = (\n",
    "        defense.loc[defense[\"rush_attempt\"] == 1]\n",
    "        .groupby([\"defteam\", \"week\"], as_index=False)[\"epa\"]\n",
    "        .mean()\n",
    "        .rename(columns={\"defteam\": \"team\"})\n",
    "    )\n",
    "    passing_defense = (\n",
    "        defense.loc[defense[\"pass_attempt\"] == 1]\n",
    "        .groupby([\"defteam\", \"week\"], as_index=False)[\"epa\"]\n",
    "        .mean()\n",
    "        .rename(columns={\"defteam\": \"team\"})\n",
    "    )\n",
    "\n",
    "    super_bowl_X = np.zeros(8)\n",
    "\n",
    "    for i, (tm, stat_df) in enumerate(\n",
    "        itertools.product(\n",
    "            [HOME_TEAM, AWAY_TEAM],\n",
    "            [rushing_offense, passing_offense, rushing_defense, passing_defense],\n",
    "        )\n",
    "    ):\n",
    "        ewma_value = ewma(stat_df.loc[stat_df[\"team\"] == tm][\"epa\"].values, 20)\n",
    "        super_bowl_X[i] = ewma_value\n",
    "\n",
    "    predicted_winner = model.predict(super_bowl_X.reshape(1, 8))[0]\n",
    "    predicted_proba = model.predict_proba(super_bowl_X.reshape(1, 8))[0]\n",
    "\n",
    "    winner = HOME_TEAM if predicted_winner else AWAY_TEAM\n",
    "    win_prob = predicted_proba[-1] if predicted_winner else predicted_proba[0]\n",
    "    return winner, win_prob"
   ]
  },
  {
   "cell_type": "code",
   "execution_count": 59,
   "metadata": {},
   "outputs": [
    {
     "name": "stdout",
     "output_type": "stream",
     "text": [
      "HOU vs CLE: HOU with 76.89039% probability\n",
      "NYJ vs NE: NE with 58.14629% probability\n",
      "DET vs ATL: DET with 82.06373% probability\n",
      "WAS vs BUF: BUF with 78.10979% probability\n",
      "GB vs NO: NO with 79.41108% probability\n",
      "MIA vs DEN: MIA with 82.64485% probability\n",
      "CLE vs TEN: CLE with 59.49715% probability\n",
      "MIN vs LAC: MIN with 78.54664% probability\n",
      "NYJ vs NE: NE with 58.14629% probability\n",
      "JAX vs HOU: HOU with 65.98913% probability\n",
      "BAL vs IND: BAL with 60.15540% probability\n",
      "SEA vs CAR: SEA with 95.01683% probability\n",
      "KC vs CHI: KC with 77.15705% probability\n",
      "ARI vs DAL: DAL with 52.47692% probability\n",
      "LV vs PIT: PIT with 76.21091% probability\n",
      "TB vs PHI: TB with 72.80042% probability\n"
     ]
    },
    {
     "data": {
      "text/plain": [
       "[(('HOU', 'CLE'), 'HOU', np.float64(0.768903915669553)),\n",
       " (('NYJ', 'NE'), 'NE', np.float64(0.58146293700059)),\n",
       " (('DET', 'ATL'), 'DET', np.float64(0.8206372949331042)),\n",
       " (('WAS', 'BUF'), 'BUF', np.float64(0.7810979210323074)),\n",
       " (('GB', 'NO'), 'NO', np.float64(0.7941108322849342)),\n",
       " (('MIA', 'DEN'), 'MIA', np.float64(0.8264485373557431)),\n",
       " (('CLE', 'TEN'), 'CLE', np.float64(0.5949714597131823)),\n",
       " (('MIN', 'LAC'), 'MIN', np.float64(0.7854663505809777)),\n",
       " (('NYJ', 'NE'), 'NE', np.float64(0.58146293700059)),\n",
       " (('JAX', 'HOU'), 'HOU', np.float64(0.659891301729453)),\n",
       " (('BAL', 'IND'), 'BAL', np.float64(0.6015539940479555)),\n",
       " (('SEA', 'CAR'), 'SEA', np.float64(0.9501682652457129)),\n",
       " (('KC', 'CHI'), 'KC', np.float64(0.7715705421715212)),\n",
       " (('ARI', 'DAL'), 'DAL', np.float64(0.5247691506823648)),\n",
       " (('LV', 'PIT'), 'PIT', np.float64(0.7621090945622662)),\n",
       " (('TB', 'PHI'), 'TB', np.float64(0.7280042100230298))]"
      ]
     },
     "execution_count": 59,
     "metadata": {},
     "output_type": "execute_result"
    }
   ],
   "source": [
    "results = []\n",
    "\n",
    "for matchup in matchups:\n",
    "    winner, probability = get_prediction(matchup)\n",
    "    print(\n",
    "        f\"{matchup[0]} vs {matchup[1]}: {winner} with {probability*100:.5f}% probability\"\n",
    "    )\n",
    "    results.append((matchup, winner, probability))\n",
    "\n",
    "results"
   ]
  }
 ],
 "metadata": {
  "kernelspec": {
   "display_name": ".venv",
   "language": "python",
   "name": "python3"
  },
  "language_info": {
   "codemirror_mode": {
    "name": "ipython",
    "version": 3
   },
   "file_extension": ".py",
   "mimetype": "text/x-python",
   "name": "python",
   "nbconvert_exporter": "python",
   "pygments_lexer": "ipython3",
   "version": "3.12.6"
  }
 },
 "nbformat": 4,
 "nbformat_minor": 2
}
